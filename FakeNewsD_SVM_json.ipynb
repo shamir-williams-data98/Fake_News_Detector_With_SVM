{
  "cells": [
    {
      "cell_type": "markdown",
      "metadata": {
        "id": "4kv4gik0Rahn"
      },
      "source": [
        "# Detecting Fake News using Support Vector Machines (SVM)\n",
        "### Step-by-Step Implementation in Google Colab with Multilingual Support (English & Chinese)"
      ]
    },
    {
      "cell_type": "markdown",
      "metadata": {
        "id": "Mqk9hQ8nRahq"
      },
      "source": [
        "## Step 1: Install & Import Necessary Libraries\n",
        "We first import all the required Python libraries. NLTK is used for natural language processing, sklearn for machine learning, and pandas for data manipulation. We also use deep_translator for translating Chinese text into English."
      ]
    },
    {
      "cell_type": "code",
      "execution_count": 6,
      "metadata": {
        "colab": {
          "base_uri": "https://localhost:8080/"
        },
        "id": "7AnFP4abRahq",
        "outputId": "9a09b91f-5eed-4744-94a1-112fb264da12"
      },
      "outputs": [
        {
          "output_type": "stream",
          "name": "stdout",
          "text": [
            "Requirement already satisfied: deep_translator in /usr/local/lib/python3.11/dist-packages (1.11.4)\n",
            "Requirement already satisfied: beautifulsoup4<5.0.0,>=4.9.1 in /usr/local/lib/python3.11/dist-packages (from deep_translator) (4.13.3)\n",
            "Requirement already satisfied: requests<3.0.0,>=2.23.0 in /usr/local/lib/python3.11/dist-packages (from deep_translator) (2.32.3)\n",
            "Requirement already satisfied: soupsieve>1.2 in /usr/local/lib/python3.11/dist-packages (from beautifulsoup4<5.0.0,>=4.9.1->deep_translator) (2.6)\n",
            "Requirement already satisfied: typing-extensions>=4.0.0 in /usr/local/lib/python3.11/dist-packages (from beautifulsoup4<5.0.0,>=4.9.1->deep_translator) (4.12.2)\n",
            "Requirement already satisfied: charset-normalizer<4,>=2 in /usr/local/lib/python3.11/dist-packages (from requests<3.0.0,>=2.23.0->deep_translator) (3.4.1)\n",
            "Requirement already satisfied: idna<4,>=2.5 in /usr/local/lib/python3.11/dist-packages (from requests<3.0.0,>=2.23.0->deep_translator) (3.10)\n",
            "Requirement already satisfied: urllib3<3,>=1.21.1 in /usr/local/lib/python3.11/dist-packages (from requests<3.0.0,>=2.23.0->deep_translator) (2.3.0)\n",
            "Requirement already satisfied: certifi>=2017.4.17 in /usr/local/lib/python3.11/dist-packages (from requests<3.0.0,>=2.23.0->deep_translator) (2025.1.31)\n"
          ]
        },
        {
          "output_type": "stream",
          "name": "stderr",
          "text": [
            "[nltk_data] Downloading package stopwords to /root/nltk_data...\n",
            "[nltk_data]   Package stopwords is already up-to-date!\n",
            "[nltk_data] Downloading package punkt to /root/nltk_data...\n",
            "[nltk_data]   Package punkt is already up-to-date!\n",
            "[nltk_data] Downloading package wordnet to /root/nltk_data...\n",
            "[nltk_data]   Package wordnet is already up-to-date!\n"
          ]
        },
        {
          "output_type": "execute_result",
          "data": {
            "text/plain": [
              "True"
            ]
          },
          "metadata": {},
          "execution_count": 6
        }
      ],
      "source": [
        "# Install & Import Necessary Libraries\n",
        "!pip install deep_translator\n",
        "import pandas as pd  # Data handling\n",
        "import numpy as np  # Numerical operations\n",
        "import re  # Regular expressions for text cleaning\n",
        "import string  # String operations\n",
        "import nltk  # Natural Language Processing\n",
        "from nltk.corpus import stopwords  # List of stopwords\n",
        "from nltk.tokenize import word_tokenize  # Tokenization\n",
        "from nltk.stem import WordNetLemmatizer  # Lemmatization\n",
        "from deep_translator import GoogleTranslator  # Translation from Chinese to English\n",
        "from sklearn.feature_extraction.text import TfidfVectorizer  # Convert text to numerical representation\n",
        "from sklearn.model_selection import train_test_split  # Splitting data\n",
        "from sklearn.svm import SVC  # Support Vector Machine model\n",
        "from sklearn.metrics import accuracy_score, classification_report  # Model evaluation\n",
        "\n",
        "# Download necessary resources for NLTK\n",
        "nltk.download('stopwords')\n",
        "nltk.download('punkt')\n",
        "nltk.download('wordnet')"
      ]
    },
    {
      "cell_type": "markdown",
      "metadata": {
        "id": "UKs5qnxNRahs"
      },
      "source": [
        "## Step 2: Load and Merge Datasets\n",
        "We will load and merge two datasets: Weibo21 (train, test, val) and the Kaggle Fake News dataset (True.csv, Fake.csv). Chinese text will be translated to English."
      ]
    },
    {
      "cell_type": "code",
      "execution_count": null,
      "metadata": {
        "colab": {
          "base_uri": "https://localhost:8080/"
        },
        "id": "3yhf5sP-Rahs",
        "outputId": "462d1bd3-e6a7-4f12-c662-ef9f35e3e442"
      },
      "outputs": [
        {
          "metadata": {
            "tags": null
          },
          "name": "stdout",
          "output_type": "stream",
          "text": [
            "Attempt 1: Translation failed for: #12345回复北京降级热点问题#【#北京#响应等级调低后，您的这些疑问12345答复了！】4月30... Retrying. Error: Request exception can happen due to an api connection error. Please check your connection and try again\n",
            "Attempt 2: Translation failed for: #12345回复北京降级热点问题#【#北京#响应等级调低后，您的这些疑问12345答复了！】4月30... Retrying. Error: Request exception can happen due to an api connection error. Please check your connection and try again\n",
            "Attempt 3: Translation failed for: #12345回复北京降级热点问题#【#北京#响应等级调低后，您的这些疑问12345答复了！】4月30... Retrying. Error: Request exception can happen due to an api connection error. Please check your connection and try again\n",
            "Translation permanently failed for: #12345回复北京降级热点问题#【#北京#响应等级调低后，您的这些疑问12345答复了！】4月30... Skipping.\n",
            "Attempt 1: Translation failed for: 【秦朔：唯偏执狂才能让赢家们不再如此生存（节选）】（ Hello好公司 5天前）1、好几位朋友让我评... Retrying. Error: Request exception can happen due to an api connection error. Please check your connection and try again\n",
            "Attempt 2: Translation failed for: 【秦朔：唯偏执狂才能让赢家们不再如此生存（节选）】（ Hello好公司 5天前）1、好几位朋友让我评... Retrying. Error: Request exception can happen due to an api connection error. Please check your connection and try again\n",
            "Attempt 3: Translation failed for: 【秦朔：唯偏执狂才能让赢家们不再如此生存（节选）】（ Hello好公司 5天前）1、好几位朋友让我评... Retrying. Error: Request exception can happen due to an api connection error. Please check your connection and try again\n",
            "Translation permanently failed for: 【秦朔：唯偏执狂才能让赢家们不再如此生存（节选）】（ Hello好公司 5天前）1、好几位朋友让我评... Skipping.\n",
            "Attempt 1: Translation failed for: 全民抗议暴力执法！全民控诉暴力执法！#强烈抗议绍兴市越城区城管中队暴力执法#！人神共愤，绍兴越城区城... Retrying. Error: Request exception can happen due to an api connection error. Please check your connection and try again\n",
            "Attempt 2: Translation failed for: 全民抗议暴力执法！全民控诉暴力执法！#强烈抗议绍兴市越城区城管中队暴力执法#！人神共愤，绍兴越城区城... Retrying. Error: Request exception can happen due to an api connection error. Please check your connection and try again\n",
            "Attempt 3: Translation failed for: 全民抗议暴力执法！全民控诉暴力执法！#强烈抗议绍兴市越城区城管中队暴力执法#！人神共愤，绍兴越城区城... Retrying. Error: Request exception can happen due to an api connection error. Please check your connection and try again\n",
            "Translation permanently failed for: 全民抗议暴力执法！全民控诉暴力执法！#强烈抗议绍兴市越城区城管中队暴力执法#！人神共愤，绍兴越城区城... Skipping.\n"
          ]
        }
      ],
      "source": [
        "# Load and Merge Datasets\n",
        "df_train = pd.read_csv('train.csv')\n",
        "df_test = pd.read_csv('test.csv')\n",
        "df_val = pd.read_csv('val.csv')\n",
        "df_fake = pd.read_csv('Fake.csv')[['title', 'text']].assign(label=1)  # Fake news\n",
        "df_real = pd.read_csv('True.csv')[['title', 'text']].assign(label=0)  # Real news\n",
        "\n",
        "df_kaggle = pd.concat([df_fake, df_real])\n",
        "df_weibo = pd.concat([df_train, df_test, df_val])\n",
        "\n",
        "# Ensure the time module is imported\n",
        "import time\n",
        "\n",
        "# Safe Translation Function with Retry Mechanism\n",
        "translator = GoogleTranslator(source='zh-CN', target='en')\n",
        "\n",
        "def safe_translate(text):\n",
        "    \"\"\"Safely translates text with retries and rate limiting.\"\"\"\n",
        "    if not isinstance(text, str) or not text.strip():\n",
        "        return text  # Skip empty or non-string values\n",
        "\n",
        "    for attempt in range(3):  # Retry up to 3 times\n",
        "        try:\n",
        "            time.sleep(1)  # Prevent hitting rate limits\n",
        "            return translator.translate(text)\n",
        "        except Exception as e:\n",
        "            print(f'Attempt {attempt + 1}: Translation failed for: {text[:50]}... Retrying. Error: {e}')\n",
        "\n",
        "    print(f\"Translation permanently failed for: {text[:50]}... Skipping.\")\n",
        "    return text  # Return original text if all retries fail\n",
        "\n",
        "# Apply translation with error handling\n",
        "df_weibo['content'] = df_weibo['content'].apply(safe_translate)\n",
        "\n",
        "# Merge content columns\n",
        "df_kaggle['content'] = df_kaggle['title'] + ' ' + df_kaggle['text']\n",
        "df_combined = pd.concat([df_kaggle[['content', 'label']], df_weibo[['content', 'label']]])\n",
        "df_combined = df_combined.sample(frac=1).reset_index(drop=True)  # Shuffle data\n",
        "df_combined.head()\n",
        "\n",
        "\n",
        "\n"
      ]
    },
    {
      "cell_type": "markdown",
      "metadata": {
        "id": "zVwfcwZWRaht"
      },
      "source": [
        "# Step 3: Preprocess Text Data\n",
        "\n",
        "Before training the model, we need to clean the text data by:\n",
        "\n",
        "Removing punctuation, numbers, and special characters.\n",
        "Converting text to lowercase.\n",
        "Tokenizing and removing stopwords.\n",
        "Applying lemmatization to normalize words.\n"
      ]
    },
    {
      "cell_type": "code",
      "execution_count": 14,
      "metadata": {
        "id": "ggxLZti9Raht",
        "colab": {
          "base_uri": "https://localhost:8080/",
          "height": 340
        },
        "outputId": "c50da339-2318-43a6-efa8-b1b390038e65"
      },
      "outputs": [
        {
          "output_type": "stream",
          "name": "stderr",
          "text": [
            "[nltk_data] Downloading package stopwords to /root/nltk_data...\n",
            "[nltk_data]   Package stopwords is already up-to-date!\n",
            "[nltk_data] Downloading package punkt to /root/nltk_data...\n",
            "[nltk_data]   Package punkt is already up-to-date!\n",
            "[nltk_data] Downloading package wordnet to /root/nltk_data...\n",
            "[nltk_data]   Package wordnet is already up-to-date!\n",
            "[nltk_data] Downloading package punkt_tab to /root/nltk_data...\n",
            "[nltk_data]   Package punkt_tab is already up-to-date!\n"
          ]
        },
        {
          "output_type": "execute_result",
          "data": {
            "text/plain": [
              "                                             content  label\n",
              "0  dear mr presidentwhen said lock werent asking ...      1\n",
              "1  ivanka trump business get slapped lien owing u...      1\n",
              "2  jaycee chan arrested taking drugshong kong med...      1\n",
              "3  use disposable chopstick make dried bamboo sho...      1\n",
              "4  jill stein demanding recount hillary camp usin...      1"
            ],
            "text/html": [
              "\n",
              "  <div id=\"df-2dde0477-0ab0-4f57-8f8b-084754b4ea55\" class=\"colab-df-container\">\n",
              "    <div>\n",
              "<style scoped>\n",
              "    .dataframe tbody tr th:only-of-type {\n",
              "        vertical-align: middle;\n",
              "    }\n",
              "\n",
              "    .dataframe tbody tr th {\n",
              "        vertical-align: top;\n",
              "    }\n",
              "\n",
              "    .dataframe thead th {\n",
              "        text-align: right;\n",
              "    }\n",
              "</style>\n",
              "<table border=\"1\" class=\"dataframe\">\n",
              "  <thead>\n",
              "    <tr style=\"text-align: right;\">\n",
              "      <th></th>\n",
              "      <th>content</th>\n",
              "      <th>label</th>\n",
              "    </tr>\n",
              "  </thead>\n",
              "  <tbody>\n",
              "    <tr>\n",
              "      <th>0</th>\n",
              "      <td>dear mr presidentwhen said lock werent asking ...</td>\n",
              "      <td>1</td>\n",
              "    </tr>\n",
              "    <tr>\n",
              "      <th>1</th>\n",
              "      <td>ivanka trump business get slapped lien owing u...</td>\n",
              "      <td>1</td>\n",
              "    </tr>\n",
              "    <tr>\n",
              "      <th>2</th>\n",
              "      <td>jaycee chan arrested taking drugshong kong med...</td>\n",
              "      <td>1</td>\n",
              "    </tr>\n",
              "    <tr>\n",
              "      <th>3</th>\n",
              "      <td>use disposable chopstick make dried bamboo sho...</td>\n",
              "      <td>1</td>\n",
              "    </tr>\n",
              "    <tr>\n",
              "      <th>4</th>\n",
              "      <td>jill stein demanding recount hillary camp usin...</td>\n",
              "      <td>1</td>\n",
              "    </tr>\n",
              "  </tbody>\n",
              "</table>\n",
              "</div>\n",
              "    <div class=\"colab-df-buttons\">\n",
              "\n",
              "  <div class=\"colab-df-container\">\n",
              "    <button class=\"colab-df-convert\" onclick=\"convertToInteractive('df-2dde0477-0ab0-4f57-8f8b-084754b4ea55')\"\n",
              "            title=\"Convert this dataframe to an interactive table.\"\n",
              "            style=\"display:none;\">\n",
              "\n",
              "  <svg xmlns=\"http://www.w3.org/2000/svg\" height=\"24px\" viewBox=\"0 -960 960 960\">\n",
              "    <path d=\"M120-120v-720h720v720H120Zm60-500h600v-160H180v160Zm220 220h160v-160H400v160Zm0 220h160v-160H400v160ZM180-400h160v-160H180v160Zm440 0h160v-160H620v160ZM180-180h160v-160H180v160Zm440 0h160v-160H620v160Z\"/>\n",
              "  </svg>\n",
              "    </button>\n",
              "\n",
              "  <style>\n",
              "    .colab-df-container {\n",
              "      display:flex;\n",
              "      gap: 12px;\n",
              "    }\n",
              "\n",
              "    .colab-df-convert {\n",
              "      background-color: #E8F0FE;\n",
              "      border: none;\n",
              "      border-radius: 50%;\n",
              "      cursor: pointer;\n",
              "      display: none;\n",
              "      fill: #1967D2;\n",
              "      height: 32px;\n",
              "      padding: 0 0 0 0;\n",
              "      width: 32px;\n",
              "    }\n",
              "\n",
              "    .colab-df-convert:hover {\n",
              "      background-color: #E2EBFA;\n",
              "      box-shadow: 0px 1px 2px rgba(60, 64, 67, 0.3), 0px 1px 3px 1px rgba(60, 64, 67, 0.15);\n",
              "      fill: #174EA6;\n",
              "    }\n",
              "\n",
              "    .colab-df-buttons div {\n",
              "      margin-bottom: 4px;\n",
              "    }\n",
              "\n",
              "    [theme=dark] .colab-df-convert {\n",
              "      background-color: #3B4455;\n",
              "      fill: #D2E3FC;\n",
              "    }\n",
              "\n",
              "    [theme=dark] .colab-df-convert:hover {\n",
              "      background-color: #434B5C;\n",
              "      box-shadow: 0px 1px 3px 1px rgba(0, 0, 0, 0.15);\n",
              "      filter: drop-shadow(0px 1px 2px rgba(0, 0, 0, 0.3));\n",
              "      fill: #FFFFFF;\n",
              "    }\n",
              "  </style>\n",
              "\n",
              "    <script>\n",
              "      const buttonEl =\n",
              "        document.querySelector('#df-2dde0477-0ab0-4f57-8f8b-084754b4ea55 button.colab-df-convert');\n",
              "      buttonEl.style.display =\n",
              "        google.colab.kernel.accessAllowed ? 'block' : 'none';\n",
              "\n",
              "      async function convertToInteractive(key) {\n",
              "        const element = document.querySelector('#df-2dde0477-0ab0-4f57-8f8b-084754b4ea55');\n",
              "        const dataTable =\n",
              "          await google.colab.kernel.invokeFunction('convertToInteractive',\n",
              "                                                    [key], {});\n",
              "        if (!dataTable) return;\n",
              "\n",
              "        const docLinkHtml = 'Like what you see? Visit the ' +\n",
              "          '<a target=\"_blank\" href=https://colab.research.google.com/notebooks/data_table.ipynb>data table notebook</a>'\n",
              "          + ' to learn more about interactive tables.';\n",
              "        element.innerHTML = '';\n",
              "        dataTable['output_type'] = 'display_data';\n",
              "        await google.colab.output.renderOutput(dataTable, element);\n",
              "        const docLink = document.createElement('div');\n",
              "        docLink.innerHTML = docLinkHtml;\n",
              "        element.appendChild(docLink);\n",
              "      }\n",
              "    </script>\n",
              "  </div>\n",
              "\n",
              "\n",
              "<div id=\"df-a410d1a7-1621-4cc4-9d7f-7a1d2d71df74\">\n",
              "  <button class=\"colab-df-quickchart\" onclick=\"quickchart('df-a410d1a7-1621-4cc4-9d7f-7a1d2d71df74')\"\n",
              "            title=\"Suggest charts\"\n",
              "            style=\"display:none;\">\n",
              "\n",
              "<svg xmlns=\"http://www.w3.org/2000/svg\" height=\"24px\"viewBox=\"0 0 24 24\"\n",
              "     width=\"24px\">\n",
              "    <g>\n",
              "        <path d=\"M19 3H5c-1.1 0-2 .9-2 2v14c0 1.1.9 2 2 2h14c1.1 0 2-.9 2-2V5c0-1.1-.9-2-2-2zM9 17H7v-7h2v7zm4 0h-2V7h2v10zm4 0h-2v-4h2v4z\"/>\n",
              "    </g>\n",
              "</svg>\n",
              "  </button>\n",
              "\n",
              "<style>\n",
              "  .colab-df-quickchart {\n",
              "      --bg-color: #E8F0FE;\n",
              "      --fill-color: #1967D2;\n",
              "      --hover-bg-color: #E2EBFA;\n",
              "      --hover-fill-color: #174EA6;\n",
              "      --disabled-fill-color: #AAA;\n",
              "      --disabled-bg-color: #DDD;\n",
              "  }\n",
              "\n",
              "  [theme=dark] .colab-df-quickchart {\n",
              "      --bg-color: #3B4455;\n",
              "      --fill-color: #D2E3FC;\n",
              "      --hover-bg-color: #434B5C;\n",
              "      --hover-fill-color: #FFFFFF;\n",
              "      --disabled-bg-color: #3B4455;\n",
              "      --disabled-fill-color: #666;\n",
              "  }\n",
              "\n",
              "  .colab-df-quickchart {\n",
              "    background-color: var(--bg-color);\n",
              "    border: none;\n",
              "    border-radius: 50%;\n",
              "    cursor: pointer;\n",
              "    display: none;\n",
              "    fill: var(--fill-color);\n",
              "    height: 32px;\n",
              "    padding: 0;\n",
              "    width: 32px;\n",
              "  }\n",
              "\n",
              "  .colab-df-quickchart:hover {\n",
              "    background-color: var(--hover-bg-color);\n",
              "    box-shadow: 0 1px 2px rgba(60, 64, 67, 0.3), 0 1px 3px 1px rgba(60, 64, 67, 0.15);\n",
              "    fill: var(--button-hover-fill-color);\n",
              "  }\n",
              "\n",
              "  .colab-df-quickchart-complete:disabled,\n",
              "  .colab-df-quickchart-complete:disabled:hover {\n",
              "    background-color: var(--disabled-bg-color);\n",
              "    fill: var(--disabled-fill-color);\n",
              "    box-shadow: none;\n",
              "  }\n",
              "\n",
              "  .colab-df-spinner {\n",
              "    border: 2px solid var(--fill-color);\n",
              "    border-color: transparent;\n",
              "    border-bottom-color: var(--fill-color);\n",
              "    animation:\n",
              "      spin 1s steps(1) infinite;\n",
              "  }\n",
              "\n",
              "  @keyframes spin {\n",
              "    0% {\n",
              "      border-color: transparent;\n",
              "      border-bottom-color: var(--fill-color);\n",
              "      border-left-color: var(--fill-color);\n",
              "    }\n",
              "    20% {\n",
              "      border-color: transparent;\n",
              "      border-left-color: var(--fill-color);\n",
              "      border-top-color: var(--fill-color);\n",
              "    }\n",
              "    30% {\n",
              "      border-color: transparent;\n",
              "      border-left-color: var(--fill-color);\n",
              "      border-top-color: var(--fill-color);\n",
              "      border-right-color: var(--fill-color);\n",
              "    }\n",
              "    40% {\n",
              "      border-color: transparent;\n",
              "      border-right-color: var(--fill-color);\n",
              "      border-top-color: var(--fill-color);\n",
              "    }\n",
              "    60% {\n",
              "      border-color: transparent;\n",
              "      border-right-color: var(--fill-color);\n",
              "    }\n",
              "    80% {\n",
              "      border-color: transparent;\n",
              "      border-right-color: var(--fill-color);\n",
              "      border-bottom-color: var(--fill-color);\n",
              "    }\n",
              "    90% {\n",
              "      border-color: transparent;\n",
              "      border-bottom-color: var(--fill-color);\n",
              "    }\n",
              "  }\n",
              "</style>\n",
              "\n",
              "  <script>\n",
              "    async function quickchart(key) {\n",
              "      const quickchartButtonEl =\n",
              "        document.querySelector('#' + key + ' button');\n",
              "      quickchartButtonEl.disabled = true;  // To prevent multiple clicks.\n",
              "      quickchartButtonEl.classList.add('colab-df-spinner');\n",
              "      try {\n",
              "        const charts = await google.colab.kernel.invokeFunction(\n",
              "            'suggestCharts', [key], {});\n",
              "      } catch (error) {\n",
              "        console.error('Error during call to suggestCharts:', error);\n",
              "      }\n",
              "      quickchartButtonEl.classList.remove('colab-df-spinner');\n",
              "      quickchartButtonEl.classList.add('colab-df-quickchart-complete');\n",
              "    }\n",
              "    (() => {\n",
              "      let quickchartButtonEl =\n",
              "        document.querySelector('#df-a410d1a7-1621-4cc4-9d7f-7a1d2d71df74 button');\n",
              "      quickchartButtonEl.style.display =\n",
              "        google.colab.kernel.accessAllowed ? 'block' : 'none';\n",
              "    })();\n",
              "  </script>\n",
              "</div>\n",
              "\n",
              "    </div>\n",
              "  </div>\n"
            ],
            "application/vnd.google.colaboratory.intrinsic+json": {
              "type": "dataframe",
              "variable_name": "df_combined",
              "summary": "{\n  \"name\": \"df_combined\",\n  \"rows\": 54490,\n  \"fields\": [\n    {\n      \"column\": \"content\",\n      \"properties\": {\n        \"dtype\": \"string\",\n        \"num_unique_values\": 48147,\n        \"samples\": [\n          \"philippine lawyer ask supreme court halt illegal war drug manila reuters group philippine lawyer wednesday filed injunction supreme court try stop president rodrigo duterte bloody war drug calling illegal campaign let police kill circumvent legal procedure government directive fierce monthold crackdown permit police negate neutralise target effectively granting license kill suspected user dealer without gathering evidence building case lawyer said practice compiling list drug personality encouraging citizen anonymously provide name tantamount drawing hit list petition said called judicial intervention thousand case filipino killed police present war drug waged government going stop illegal drug crime corruption jose manuel diokno chairman free legal assistance group flag told news conference result killing people especially poor petition come public scrutiny intensifies duterte signature campaign insists stop regardless bloodshed say prepared go jail protect filipino crime fueled addiction duterte reject criticism notoriously bellicose public remark interpreted police veiled instruction kill drug user impunity philippine national police pnp spokesman dionardo carlos said police welcome filing petition supreme court elaborate though filipino largely supportive duterte ironfisted approach recent opinion poll indicate public doubt drug war board effective government say analyst say unease campaign contributed duterte rating decline pnp data show people killed operation police say armed suspect violently resisted arrest duterte opponent activist dispute say execution coverups commonplace police deny petition flag comprised around probono human right lawyer filed behalf three people whose relative killed police flag also represented two men testified senate part alleged death squad killed drug dealer criminal duterte behest davao city mayor long presidency duterte dismisses allegation nonsense latest petition seek compel pnp interior ministry halt campaign want killing examined national bureau investigation nbi would take charge evidence including gun police say used victim said housetohouse visit antidrugs police followed unverified tipoffs unknown informant based evidence argues police intent persuade suspect surrender would kill anyone refused cooperate denied involvement government war drug shortcutting justice system dispensing justice barrel gun petition said\",\n          \"rightwing mom beat kid bloody pulp lead god video rightwing mom forced child sing song bundy terrorist seized federal wildlife refuge oregon experienced revolt child took away gun fled house search help law enforcementthe five kid escaped home wanted beating constantly endured endauthorities arrested odalis sharp friday beating child bloody rod name god called way leading christianity need turn god system corrupt sharp said accusing government waging vendetta lie twist make false charge abuse people turn around put people prison accuse abuse government accusing sharp abuse childrenthey testified wednesday mother mercilessly abused day week calling name forcing eat soap beating bloody belt rod well slapping hitting private part said typical always receive type bruising time bled swat social worker told court child told fearful want return mother sheriff also described one child told one spanking consisted swat spanking abused child began bleeding sharp yearold son fled home escape constant beating well sharp explained saying boy rejected right wholesome pure path leading god leading u kid go back mother either judge removed child sharp custody placed custody kansa department child familieshere video sharp rant via youtubethis yet another case conservative twist use religion excuse horrible act woman dragged kid center standoff fbi bunch guntoting rightwing terrorist top constant beating suffered hand mother actually think god work bloodying kidsthat probably make televangelist pat robertson smile hardly acceptable way treat child modern society resort beating religion kid religion truly weakfeatured image via screenshot\",\n          \"lifelong republican arnold schwarzenegger terminates gop trump back arnold schwarzenegger telling republican party year ever since action movie icon became united state citizen faithfully voted gop presidential candidate yeardonald trump vulgar remark groping woman much terminator star like republican jumping sinking shipthe los angeles time report arnold condemned trump statement used statement announce voting republican november first time since became citizen vote republican candidate president schwarzenegger said statement posted twitter like many american conflicted election still made mind exactly vote next month proud republican since moved america heard nixon word getting government back free trade defending liberty strong military day joined party abraham lincoln teddy roosevelt ronald reaganbut proud label republican one label hold else american want take moment today remind fellow republican acceptable choose country party duty proud label republican one label hold else american full statement pictwittercombirvysaz arnold schwarzenegger october governor california schwarzenegger embroiled scandal included affair housekeeper produced child year prior taking office taken responsibility accusation sexual misconduct expressed remorseso donald trump behavior word bad even schwarzenegger bring vote republican saying somethingfeatured image via wikimedia\"\n        ],\n        \"semantic_type\": \"\",\n        \"description\": \"\"\n      }\n    },\n    {\n      \"column\": \"label\",\n      \"properties\": {\n        \"dtype\": \"number\",\n        \"std\": 0,\n        \"min\": 0,\n        \"max\": 1,\n        \"num_unique_values\": 2,\n        \"samples\": [\n          0,\n          1\n        ],\n        \"semantic_type\": \"\",\n        \"description\": \"\"\n      }\n    }\n  ]\n}"
            }
          },
          "metadata": {},
          "execution_count": 14
        }
      ],
      "source": [
        "# Ensure NLTK resources are downloaded\n",
        "import nltk\n",
        "nltk.download('stopwords')\n",
        "nltk.download('punkt')\n",
        "nltk.download('wordnet')\n",
        "nltk.download('punkt_tab')\n",
        "\n",
        "# Text Preprocessing Function\n",
        "lemmatizer = WordNetLemmatizer()\n",
        "stop_words = set(stopwords.words(\"english\"))\n",
        "\n",
        "def clean_text(text):\n",
        "    \"\"\"Cleans and preprocesses text for machine learning.\"\"\"\n",
        "    # Handle None or empty strings\n",
        "    if text is None or not isinstance(text, str) or not text.strip():\n",
        "        return \"\"  # Return empty string for None or empty text\n",
        "\n",
        "    text = text.lower()  # Convert to lowercase\n",
        "    text = re.sub(r'\\d+', '', text)  # Remove numbers\n",
        "    text = re.sub(r'[^\\w\\s]', '', text)  # Remove punctuation\n",
        "    tokens = word_tokenize(text)  # Tokenize words\n",
        "    tokens = [lemmatizer.lemmatize(word) for word in tokens if word not in stop_words]  # Lemmatize & remove stopwords\n",
        "    return \" \".join(tokens)\n",
        "\n",
        "# Apply text preprocessing\n",
        "df_combined['content'] = df_combined['content'].apply(clean_text)\n",
        "\n",
        "# Display sample after preprocessing\n",
        "df_combined.head()\n"
      ]
    },
    {
      "cell_type": "markdown",
      "source": [
        "### Step 4: Convert Text to Numerical Representation (TF-IDF Vectorization)\n",
        "Since SVM works with numerical data, we need to convert text into TF-IDF vectors:\n",
        "\n",
        "TF-IDF (Term Frequency-Inverse Document Frequency) gives weight to important words.\n",
        "Limits to 5,000 most relevant words to keep computation efficient."
      ],
      "metadata": {
        "id": "IM8SnAGUmlKz"
      }
    },
    {
      "cell_type": "code",
      "source": [
        "# Convert text data into TF-IDF features\n",
        "vectorizer = TfidfVectorizer(max_features=5000)\n",
        "X = vectorizer.fit_transform(df_combined['content'])\n",
        "y = df_combined['label']\n",
        "\n",
        "# Split dataset into training (80%) and testing (20%)\n",
        "X_train, X_test, y_train, y_test = train_test_split(X, y, test_size=0.2, random_state=42)\n",
        "\n",
        "# Display dataset shapes\n",
        "X_train.shape, X_test.shape"
      ],
      "metadata": {
        "id": "uAec0K6Fm2HP",
        "outputId": "fbc02e3b-a031-43b2-d056-2a5e1148e4c5",
        "colab": {
          "base_uri": "https://localhost:8080/"
        }
      },
      "execution_count": 15,
      "outputs": [
        {
          "output_type": "execute_result",
          "data": {
            "text/plain": [
              "((43592, 5000), (10898, 5000))"
            ]
          },
          "metadata": {},
          "execution_count": 15
        }
      ]
    },
    {
      "cell_type": "markdown",
      "source": [
        "## Step 5: Train the Support Vector Machine (SVM) Model\n",
        "Now, we train an SVM classifier:\n",
        "\n",
        "Uses a linear kernel for text classification.\n",
        "The C parameter controls the trade-off between accuracy and generalization."
      ],
      "metadata": {
        "id": "xyeP2W5RnWQ8"
      }
    },
    {
      "cell_type": "code",
      "source": [
        "# Train the SVM model\n",
        "svm_model = SVC(kernel=\"linear\", C=1)\n",
        "svm_model.fit(X_train, y_train)\n",
        "\n",
        "# Make predictions on the test set\n",
        "y_pred = svm_model.predict(X_test)\n",
        "\n",
        "# Evaluate model performance\n",
        "accuracy = accuracy_score(y_test, y_pred)\n",
        "print(f\"Model Accuracy: {accuracy:.2f}\")\n",
        "\n",
        "# Display classification report\n",
        "print(classification_report(y_test, y_pred))"
      ],
      "metadata": {
        "id": "TnXgj1AFnYW4",
        "outputId": "380572c5-622b-44b4-f1bb-e3e498ffcb42",
        "colab": {
          "base_uri": "https://localhost:8080/"
        }
      },
      "execution_count": 16,
      "outputs": [
        {
          "output_type": "stream",
          "name": "stdout",
          "text": [
            "Model Accuracy: 0.95\n",
            "              precision    recall  f1-score   support\n",
            "\n",
            "           0       0.96      0.94      0.95      5353\n",
            "           1       0.95      0.96      0.95      5545\n",
            "\n",
            "    accuracy                           0.95     10898\n",
            "   macro avg       0.95      0.95      0.95     10898\n",
            "weighted avg       0.95      0.95      0.95     10898\n",
            "\n"
          ]
        }
      ]
    },
    {
      "cell_type": "markdown",
      "source": [
        "# Step 6: Test with a Sample News Input\n",
        "Now, let's test the model with a custom news headline and check if it’s real or fake."
      ],
      "metadata": {
        "id": "u8mtNtsLrOvn"
      }
    },
    {
      "cell_type": "code",
      "source": [
        "# Function to predict new input\n",
        "def predict_news(text):\n",
        "    \"\"\"Predicts whether a given news article is Fake or Real.\"\"\"\n",
        "    text = clean_text(text)  # Preprocess text\n",
        "    text_vectorized = vectorizer.transform([text])  # Convert to TF-IDF\n",
        "    prediction = svm_model.predict(text_vectorized)[0]  # Get prediction\n",
        "    return \"Fake News\" if prediction == 1 else \"Real News\"\n",
        "\n",
        "# Example Test\n",
        "sample_text = \"Judge grants 19 AGs preliminary injunction against DOGE access to Treasury payment system The ruling came amid a lawsuit filed by 19 state attorneys general concerned about the Elon Musk-led DOGE accessing the payment system\"\n",
        "print(f\"Prediction: {predict_news(sample_text)}\")"
      ],
      "metadata": {
        "id": "m42VI7CorY2r",
        "outputId": "5fd3e933-4ce4-471e-a450-6ce25b514165",
        "colab": {
          "base_uri": "https://localhost:8080/"
        }
      },
      "execution_count": 23,
      "outputs": [
        {
          "output_type": "stream",
          "name": "stdout",
          "text": [
            "Prediction: Real News\n"
          ]
        }
      ]
    }
  ],
  "metadata": {
    "colab": {
      "provenance": [],
      "toc_visible": true
    },
    "kernelspec": {
      "display_name": "Python 3",
      "name": "python3"
    },
    "language_info": {
      "name": "python"
    }
  },
  "nbformat": 4,
  "nbformat_minor": 0
}